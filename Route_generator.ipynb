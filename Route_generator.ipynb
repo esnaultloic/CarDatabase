{
 "cells": [
  {
   "cell_type": "code",
   "execution_count": 3,
   "metadata": {},
   "outputs": [],
   "source": [
    "import uuid\n",
    "import pandas as pd\n",
    "import random\n",
    "import requests\n",
    "import json\n",
    "import numpy as np\n",
    "import cProfile\n",
    "import re\n",
    "\n",
    "\n",
    "from TRUCK import Truck\n",
    "from API import API\n",
    "from PARAMETERS import Parameters\n"
   ]
  },
  {
   "cell_type": "code",
   "execution_count": 4,
   "metadata": {},
   "outputs": [],
   "source": [
    "def truck_dataframe(APIKEY, params):\n",
    "    dict_truck = {}\n",
    "    for i in range(0, len(params.list_comsumption)):\n",
    "        speedprofile = random.choice(params.list_speedprofile)\n",
    "        cons = params.list_comsumption[i]\n",
    "\n",
    "        if speedprofile == \"fast\":\n",
    "            cons = cons+0.15*cons\n",
    "\n",
    "        create_truck = Truck(\"truck\"+str(i), np.random.choice(params.list_energy, p=[0.85, 0.15]), cons, speedprofile,\n",
    "                             random.choice(params.list_route_pm))\n",
    "        new_truck = create_truck.create_truck()\n",
    "        dict_truck[i] = new_truck\n",
    "\n",
    "    df = pd.DataFrame.from_dict(dict_truck, orient='index')\n",
    "\n",
    "    list_distance = []\n",
    "    list_duration = []\n",
    "    list_co2 = []\n",
    "\n",
    "    for i in range(len(df)):\n",
    "        api = API('49.1451519,1.9831777', '49.0527528,2.0388736',\n",
    "                  df['vehicletype'][i], df['speedprofile'][i], df['route_pm'][i])\n",
    "        json_file = api.call(APIKEY)\n",
    "\n",
    "        distance = json_file['response']['route'][0]['summary']['distance']\n",
    "        duration = json_file['response']['route'][0]['summary']['travelTime']\n",
    "        co2 = json_file['response']['route'][0]['summary']['co2Emission']\n",
    "\n",
    "        list_distance.append(distance)\n",
    "        list_duration.append(duration)\n",
    "        list_co2.append(co2)\n",
    "\n",
    "    data_response = {'distance (m)': list_distance,\n",
    "                     'duration (s)': list_duration,\n",
    "                     'co2 (kg)': list_co2}\n",
    "\n",
    "    df_response = pd.DataFrame(data_response)\n",
    "\n",
    "    return df, df_response\n"
   ]
  },
  {
   "cell_type": "code",
   "execution_count": 5,
   "metadata": {},
   "outputs": [],
   "source": [
    "APIKEY = 'nIhu0b6ZlQsJMSWcQXiZ46fXKAJmKFJgtRrUbP0ZGkw'\n",
    "\n",
    "params = Parameters(36.2, 3, 100, [\"diesel\", \"gasoline\"], [\n",
    "                    'default', 'fast'], ['fastest;truck;traffic:default'])\n",
    "\n",
    "df, df_response = truck_dataframe(APIKEY, params)\n"
   ]
  },
  {
   "cell_type": "code",
   "execution_count": null,
   "metadata": {},
   "outputs": [],
   "source": [
    "df.head()\n",
    "df_response.head()"
   ]
  }
 ],
 "metadata": {
  "interpreter": {
   "hash": "4dbaf2831e8e334ba6d9e3c076078f6f7e1ded0711c49aea2fdce3d1f94a2856"
  },
  "kernelspec": {
   "display_name": "Python 3.9.5 64-bit ('base': conda)",
   "language": "python",
   "name": "python3"
  },
  "language_info": {
   "codemirror_mode": {
    "name": "ipython",
    "version": 3
   },
   "file_extension": ".py",
   "mimetype": "text/x-python",
   "name": "python",
   "nbconvert_exporter": "python",
   "pygments_lexer": "ipython3",
   "version": "3.9.5"
  },
  "orig_nbformat": 4
 },
 "nbformat": 4,
 "nbformat_minor": 2
}
